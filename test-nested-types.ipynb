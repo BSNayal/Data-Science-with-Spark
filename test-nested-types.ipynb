{
 "cells": [
  {
   "cell_type": "markdown",
   "metadata": {},
   "source": [
    "# Test Nested Attributes & Functions in PySPark\n",
    "\n"
   ]
  },
  {
   "cell_type": "code",
   "execution_count": 119,
   "metadata": {
    "collapsed": true
   },
   "outputs": [],
   "source": [
    "import os\n",
    "import pandas as pd\n",
    "import numpy as np\n",
    "\n",
    "from pyspark import SparkConf, SparkContext\n",
    "from pyspark.sql import SparkSession, SQLContext\n",
    "\n",
    "from pyspark.sql.types import *\n",
    "from pyspark.sql.window import Window\n",
    "\n",
    "import pyspark.sql.functions as F\n",
    "from pyspark.sql.functions import udf, col"
   ]
  },
  {
   "cell_type": "code",
   "execution_count": 120,
   "metadata": {
    "collapsed": true
   },
   "outputs": [],
   "source": [
    "# setting random seed for notebook reproducability\n",
    "rnd_seed=23\n",
    "np.random.seed=23\n",
    "np.random.set_state=23"
   ]
  },
  {
   "cell_type": "code",
   "execution_count": 121,
   "metadata": {},
   "outputs": [
    {
     "data": {
      "text/plain": [
       "'D:\\\\Work\\\\spark-2.3.0-bin-hadoop2.7'"
      ]
     },
     "execution_count": 121,
     "metadata": {},
     "output_type": "execute_result"
    }
   ],
   "source": [
    "os.environ['SPARK_HOME']"
   ]
  },
  {
   "cell_type": "code",
   "execution_count": 122,
   "metadata": {
    "collapsed": true
   },
   "outputs": [],
   "source": [
    "spark = SparkSession.builder.master(\"local[2]\").appName(\"test_nested_attributes\").getOrCreate()"
   ]
  },
  {
   "cell_type": "code",
   "execution_count": 123,
   "metadata": {},
   "outputs": [
    {
     "data": {
      "text/html": [
       "\n",
       "            <div>\n",
       "                <p><b>SparkSession - in-memory</b></p>\n",
       "                \n",
       "        <div>\n",
       "            <p><b>SparkContext</b></p>\n",
       "\n",
       "            <p><a href=\"http://MISHER:4041\">Spark UI</a></p>\n",
       "\n",
       "            <dl>\n",
       "              <dt>Version</dt>\n",
       "                <dd><code>v2.3.0</code></dd>\n",
       "              <dt>Master</dt>\n",
       "                <dd><code>local[2]</code></dd>\n",
       "              <dt>AppName</dt>\n",
       "                <dd><code>retail_database_analysis</code></dd>\n",
       "            </dl>\n",
       "        </div>\n",
       "        \n",
       "            </div>\n",
       "        "
      ],
      "text/plain": [
       "<pyspark.sql.session.SparkSession at 0x20b00758b70>"
      ]
     },
     "execution_count": 123,
     "metadata": {},
     "output_type": "execute_result"
    }
   ],
   "source": [
    "spark"
   ]
  },
  {
   "cell_type": "code",
   "execution_count": 124,
   "metadata": {},
   "outputs": [
    {
     "data": {
      "text/html": [
       "\n",
       "        <div>\n",
       "            <p><b>SparkContext</b></p>\n",
       "\n",
       "            <p><a href=\"http://MISHER:4041\">Spark UI</a></p>\n",
       "\n",
       "            <dl>\n",
       "              <dt>Version</dt>\n",
       "                <dd><code>v2.3.0</code></dd>\n",
       "              <dt>Master</dt>\n",
       "                <dd><code>local[2]</code></dd>\n",
       "              <dt>AppName</dt>\n",
       "                <dd><code>retail_database_analysis</code></dd>\n",
       "            </dl>\n",
       "        </div>\n",
       "        "
      ],
      "text/plain": [
       "<SparkContext master=local[2] appName=retail_database_analysis>"
      ]
     },
     "execution_count": 124,
     "metadata": {},
     "output_type": "execute_result"
    }
   ],
   "source": [
    "sc = spark.sparkContext\n",
    "sc"
   ]
  },
  {
   "cell_type": "code",
   "execution_count": 125,
   "metadata": {},
   "outputs": [
    {
     "data": {
      "text/plain": [
       "<pyspark.sql.context.SQLContext at 0x20b01e030f0>"
      ]
     },
     "execution_count": 125,
     "metadata": {},
     "output_type": "execute_result"
    }
   ],
   "source": [
    "sqlContext = SQLContext(spark.sparkContext)\n",
    "sqlContext"
   ]
  },
  {
   "cell_type": "code",
   "execution_count": 126,
   "metadata": {
    "collapsed": true
   },
   "outputs": [],
   "source": [
    "import re\n",
    "\n",
    "# Utility function to emulate stripMargin in Scala string.\n",
    "def strip_margin(text):\n",
    "    nomargin = re.sub('\\n[ \\t]*\\|', ' ', text)\n",
    "    trimmed = re.sub('\\s+', ' ', nomargin)\n",
    "    return trimmed"
   ]
  },
  {
   "cell_type": "code",
   "execution_count": 127,
   "metadata": {
    "collapsed": true
   },
   "outputs": [],
   "source": [
    "spotify_df = spark.read.csv(path='data/spotify-songs.csv', inferSchema=True, header=True).cache()"
   ]
  },
  {
   "cell_type": "code",
   "execution_count": 128,
   "metadata": {},
   "outputs": [
    {
     "name": "stdout",
     "output_type": "stream",
     "text": [
      "+---+--------------------+----------------+------------+------------+-----------+------+----------------+---+--------+--------+----+-----------+-------+--------------+-------+------+\n",
      "| id|          song_title|          artist|acousticness|danceability|duration_ms|energy|instrumentalness|key|liveness|loudness|mode|speechiness|  tempo|time_signature|valence|target|\n",
      "+---+--------------------+----------------+------------+------------+-----------+------+----------------+---+--------+--------+----+-----------+-------+--------------+-------+------+\n",
      "|  0|            Mask Off|          Future|      0.0102|       0.833|     204600| 0.434|          0.0219|  2|   0.165|  -8.795|   1|      0.431|150.062|             4|  0.286|     1|\n",
      "|  1|             Redbone|Childish Gambino|       0.199|       0.743|     326933| 0.359|         0.00611|  1|   0.137| -10.401|   1|     0.0794|160.083|             4|  0.588|     1|\n",
      "|  2|        Xanny Family|          Future|      0.0344|       0.838|     185707| 0.412|         2.34E-4|  2|   0.159|  -7.148|   1|      0.289| 75.044|             4|  0.173|     1|\n",
      "|  3|      Master Of None|     Beach House|       0.604|       0.494|     199413| 0.338|            0.51|  5|  0.0922| -15.236|   1|     0.0261| 86.468|             4|   0.23|     1|\n",
      "|  4|      Parallel Lines|     Junior Boys|        0.18|       0.678|     392893| 0.561|           0.512|  5|   0.439| -11.648|   0|     0.0694|174.004|             4|  0.904|     1|\n",
      "|  5|            Sneakin’|           Drake|     0.00479|       0.804|     251333|  0.56|             0.0|  8|   0.164|  -6.682|   1|      0.185| 85.023|             4|  0.264|     1|\n",
      "|  6|         Childs Play|           Drake|      0.0145|       0.739|     241400| 0.472|         7.27E-6|  1|   0.207| -11.204|   1|      0.156|  80.03|             4|  0.308|     1|\n",
      "|  7|     Gyöngyhajú lány|           Omega|      0.0202|       0.266|     349667| 0.348|           0.664| 10|    0.16| -11.609|   0|     0.0371|144.154|             4|  0.393|     1|\n",
      "|  8|   I've Seen Footage|     Death Grips|      0.0481|       0.603|     202853| 0.944|             0.0| 11|   0.342|  -3.626|   0|      0.347|130.035|             4|  0.398|     1|\n",
      "|  9|      Digital Animal|     Honey Claws|     0.00208|       0.836|     226840| 0.603|             0.0|  7|   0.571|  -7.792|   1|      0.237| 99.994|             4|  0.386|     1|\n",
      "| 10|Subways - In Flag...|  The Avalanches|      0.0572|       0.525|     358187| 0.855|          0.0143|  5|   0.649|  -7.372|   0|     0.0548|111.951|             3|  0.524|     1|\n",
      "| 11|             Cemalim|     Erkin Koray|       0.253|       0.603|     356973| 0.434|          0.0619|  0|   0.108| -11.062|   1|     0.0342|127.681|             4|  0.381|     1|\n",
      "| 12|           One Night|      Lil Yachty|       0.366|       0.762|     243270| 0.476|             0.0|  0|   0.103| -12.686|   1|      0.114|130.007|             4|  0.367|     1|\n",
      "| 13|             Oh lala|             PNL|        0.44|       0.662|     247288| 0.603|             0.0|  9|  0.0972|  -8.317|   0|     0.0793|125.011|             4|  0.351|     1|\n",
      "| 14|                Char| Crystal Castles|       0.019|       0.637|     188333| 0.832|          0.0563|  6|   0.316|  -6.637|   1|      0.163| 99.988|             4|  0.317|     1|\n",
      "| 15|     World In Motion|       New Order|      0.0239|       0.603|     270827| 0.955|          0.0451|  1|   0.119|  -4.111|   1|     0.0458|123.922|             4|  0.773|     1|\n",
      "| 16|One Nation Under ...|      Funkadelic|       0.233|       0.789|     447907| 0.659|          4.9E-4|  4|   0.184| -12.654|   0|     0.0429|122.415|             4|  0.842|     1|\n",
      "| 17|             Bouncin|      Chief Keef|       0.314|       0.713|     195429| 0.611|             0.0|  1|   0.117|  -6.702|   0|      0.241|140.061|             4|  0.783|     1|\n",
      "| 18|C O O L - Radio Edit|        Le Youth|      0.0242|       0.735|     214347| 0.759|           0.185|  1|  0.0966|  -6.914|   0|     0.0449|109.982|             4|  0.763|     1|\n",
      "| 19|Percolator (Jamie...|         Cajmere|     7.02E-4|       0.854|     249253| 0.719|           0.308| 10|   0.428|  -9.335|   0|     0.0655|128.049|             4|  0.471|     1|\n",
      "+---+--------------------+----------------+------------+------------+-----------+------+----------------+---+--------+--------+----+-----------+-------+--------------+-------+------+\n",
      "only showing top 20 rows\n",
      "\n"
     ]
    }
   ],
   "source": [
    "spotify_df.show()"
   ]
  },
  {
   "cell_type": "code",
   "execution_count": 129,
   "metadata": {
    "collapsed": true
   },
   "outputs": [],
   "source": [
    "map_df = (spotify_df\n",
    " .select('id', 'song_title', 'artist', F.array('key', 'mode', 'target').alias('audience'), F.create_map(F.lit('acousticness'), 'acousticness').alias('qualities'))).cache()"
   ]
  },
  {
   "cell_type": "code",
   "execution_count": 130,
   "metadata": {},
   "outputs": [
    {
     "name": "stdout",
     "output_type": "stream",
     "text": [
      "+---+------------------------------------------+----------------+----------+-------------------------+\n",
      "|id |song_title                                |artist          |audience  |qualities                |\n",
      "+---+------------------------------------------+----------------+----------+-------------------------+\n",
      "|0  |Mask Off                                  |Future          |[2, 1, 1] |[acousticness -> 0.0102] |\n",
      "|1  |Redbone                                   |Childish Gambino|[1, 1, 1] |[acousticness -> 0.199]  |\n",
      "|2  |Xanny Family                              |Future          |[2, 1, 1] |[acousticness -> 0.0344] |\n",
      "|3  |Master Of None                            |Beach House     |[5, 1, 1] |[acousticness -> 0.604]  |\n",
      "|4  |Parallel Lines                            |Junior Boys     |[5, 0, 1] |[acousticness -> 0.18]   |\n",
      "|5  |Sneakin’                                  |Drake           |[8, 1, 1] |[acousticness -> 0.00479]|\n",
      "|6  |Childs Play                               |Drake           |[1, 1, 1] |[acousticness -> 0.0145] |\n",
      "|7  |Gyöngyhajú lány                           |Omega           |[10, 0, 1]|[acousticness -> 0.0202] |\n",
      "|8  |I've Seen Footage                         |Death Grips     |[11, 0, 1]|[acousticness -> 0.0481] |\n",
      "|9  |Digital Animal                            |Honey Claws     |[7, 1, 1] |[acousticness -> 0.00208]|\n",
      "|10 |Subways - In Flagranti Extended Edit      |The Avalanches  |[5, 0, 1] |[acousticness -> 0.0572] |\n",
      "|11 |Cemalim                                   |Erkin Koray     |[0, 1, 1] |[acousticness -> 0.253]  |\n",
      "|12 |One Night                                 |Lil Yachty      |[0, 1, 1] |[acousticness -> 0.366]  |\n",
      "|13 |Oh lala                                   |PNL             |[9, 0, 1] |[acousticness -> 0.44]   |\n",
      "|14 |Char                                      |Crystal Castles |[6, 1, 1] |[acousticness -> 0.019]  |\n",
      "|15 |World In Motion                           |New Order       |[1, 1, 1] |[acousticness -> 0.0239] |\n",
      "|16 |One Nation Under a Groove                 |Funkadelic      |[4, 0, 1] |[acousticness -> 0.233]  |\n",
      "|17 |Bouncin                                   |Chief Keef      |[1, 0, 1] |[acousticness -> 0.314]  |\n",
      "|18 |C O O L - Radio Edit                      |Le Youth        |[1, 0, 1] |[acousticness -> 0.0242] |\n",
      "|19 |Percolator (Jamie Jones Vault Mix) - mixed|Cajmere         |[10, 0, 1]|[acousticness -> 7.02E-4]|\n",
      "+---+------------------------------------------+----------------+----------+-------------------------+\n",
      "only showing top 20 rows\n",
      "\n"
     ]
    }
   ],
   "source": [
    "map_df.show(truncate=False)"
   ]
  },
  {
   "cell_type": "code",
   "execution_count": 131,
   "metadata": {},
   "outputs": [
    {
     "name": "stdout",
     "output_type": "stream",
     "text": [
      "root\n",
      " |-- id: integer (nullable = true)\n",
      " |-- song_title: string (nullable = true)\n",
      " |-- artist: string (nullable = true)\n",
      " |-- audience: array (nullable = false)\n",
      " |    |-- element: integer (containsNull = true)\n",
      " |-- qualities: map (nullable = false)\n",
      " |    |-- key: string\n",
      " |    |-- value: double (valueContainsNull = true)\n",
      "\n"
     ]
    }
   ],
   "source": [
    "map_df.printSchema()"
   ]
  },
  {
   "cell_type": "code",
   "execution_count": 132,
   "metadata": {
    "collapsed": true
   },
   "outputs": [],
   "source": [
    "map_df.write.json(path='data/spotify-songs.json')"
   ]
  },
  {
   "cell_type": "code",
   "execution_count": 133,
   "metadata": {
    "collapsed": true
   },
   "outputs": [],
   "source": [
    "schema3 = StructType([\n",
    "    StructField('id', IntegerType(), nullable=False),\n",
    "    StructField('song_title', StringType(), nullable=False),\n",
    "    StructField('artist', StringType(), nullable=False),\n",
    "    StructField('audience', ArrayType(elementType=IntegerType()), nullable=False),\n",
    "    StructField('qualities', MapType(keyType=StringType(), valueType=DoubleType(), valueContainsNull=False), nullable=True)])"
   ]
  },
  {
   "cell_type": "code",
   "execution_count": 135,
   "metadata": {},
   "outputs": [],
   "source": [
    "spotify_df2 = spark.read.json(path='data/spotify-songs.json', schema=schema3).cache()"
   ]
  },
  {
   "cell_type": "code",
   "execution_count": 136,
   "metadata": {},
   "outputs": [
    {
     "name": "stdout",
     "output_type": "stream",
     "text": [
      "+---+--------------------+----------------+----------+--------------------+\n",
      "| id|          song_title|          artist|  audience|           qualities|\n",
      "+---+--------------------+----------------+----------+--------------------+\n",
      "|  0|            Mask Off|          Future| [2, 1, 1]|[acousticness -> ...|\n",
      "|  1|             Redbone|Childish Gambino| [1, 1, 1]|[acousticness -> ...|\n",
      "|  2|        Xanny Family|          Future| [2, 1, 1]|[acousticness -> ...|\n",
      "|  3|      Master Of None|     Beach House| [5, 1, 1]|[acousticness -> ...|\n",
      "|  4|      Parallel Lines|     Junior Boys| [5, 0, 1]|[acousticness -> ...|\n",
      "|  5|            Sneakin’|           Drake| [8, 1, 1]|[acousticness -> ...|\n",
      "|  6|         Childs Play|           Drake| [1, 1, 1]|[acousticness -> ...|\n",
      "|  7|     Gyöngyhajú lány|           Omega|[10, 0, 1]|[acousticness -> ...|\n",
      "|  8|   I've Seen Footage|     Death Grips|[11, 0, 1]|[acousticness -> ...|\n",
      "|  9|      Digital Animal|     Honey Claws| [7, 1, 1]|[acousticness -> ...|\n",
      "| 10|Subways - In Flag...|  The Avalanches| [5, 0, 1]|[acousticness -> ...|\n",
      "| 11|             Cemalim|     Erkin Koray| [0, 1, 1]|[acousticness -> ...|\n",
      "| 12|           One Night|      Lil Yachty| [0, 1, 1]|[acousticness -> ...|\n",
      "| 13|             Oh lala|             PNL| [9, 0, 1]|[acousticness -> ...|\n",
      "| 14|                Char| Crystal Castles| [6, 1, 1]|[acousticness -> ...|\n",
      "| 15|     World In Motion|       New Order| [1, 1, 1]|[acousticness -> ...|\n",
      "| 16|One Nation Under ...|      Funkadelic| [4, 0, 1]|[acousticness -> ...|\n",
      "| 17|             Bouncin|      Chief Keef| [1, 0, 1]|[acousticness -> ...|\n",
      "| 18|C O O L - Radio Edit|        Le Youth| [1, 0, 1]|[acousticness -> ...|\n",
      "| 19|Percolator (Jamie...|         Cajmere|[10, 0, 1]|[acousticness -> ...|\n",
      "+---+--------------------+----------------+----------+--------------------+\n",
      "only showing top 20 rows\n",
      "\n"
     ]
    }
   ],
   "source": [
    "spotify_df2.show()"
   ]
  },
  {
   "cell_type": "code",
   "execution_count": 137,
   "metadata": {},
   "outputs": [
    {
     "name": "stdout",
     "output_type": "stream",
     "text": [
      "root\n",
      " |-- id: integer (nullable = true)\n",
      " |-- song_title: string (nullable = true)\n",
      " |-- artist: string (nullable = true)\n",
      " |-- audience: array (nullable = true)\n",
      " |    |-- element: integer (containsNull = true)\n",
      " |-- qualities: map (nullable = true)\n",
      " |    |-- key: string\n",
      " |    |-- value: double (valueContainsNull = true)\n",
      "\n"
     ]
    }
   ],
   "source": [
    "spotify_df2.printSchema()"
   ]
  },
  {
   "cell_type": "code",
   "execution_count": 138,
   "metadata": {},
   "outputs": [
    {
     "name": "stdout",
     "output_type": "stream",
     "text": [
      "+---+----+\n",
      "|key|mode|\n",
      "+---+----+\n",
      "|  2|   1|\n",
      "|  1|   1|\n",
      "|  2|   1|\n",
      "|  5|   1|\n",
      "|  5|   0|\n",
      "|  8|   1|\n",
      "|  1|   1|\n",
      "| 10|   0|\n",
      "| 11|   0|\n",
      "|  7|   1|\n",
      "|  5|   0|\n",
      "|  0|   1|\n",
      "|  0|   1|\n",
      "|  9|   0|\n",
      "|  6|   1|\n",
      "|  1|   1|\n",
      "|  4|   0|\n",
      "|  1|   0|\n",
      "|  1|   0|\n",
      "| 10|   0|\n",
      "+---+----+\n",
      "only showing top 20 rows\n",
      "\n"
     ]
    }
   ],
   "source": [
    "spotify_df2.select(spotify_df2.audience.getItem(0).alias('key'), spotify_df2.audience.getItem(1).alias('mode')).show()"
   ]
  },
  {
   "cell_type": "code",
   "execution_count": 139,
   "metadata": {},
   "outputs": [
    {
     "name": "stdout",
     "output_type": "stream",
     "text": [
      "+------------+\n",
      "|acousticness|\n",
      "+------------+\n",
      "|      0.0102|\n",
      "|       0.199|\n",
      "|      0.0344|\n",
      "|       0.604|\n",
      "|        0.18|\n",
      "|     0.00479|\n",
      "|      0.0145|\n",
      "|      0.0202|\n",
      "|      0.0481|\n",
      "|     0.00208|\n",
      "|      0.0572|\n",
      "|       0.253|\n",
      "|       0.366|\n",
      "|        0.44|\n",
      "|       0.019|\n",
      "|      0.0239|\n",
      "|       0.233|\n",
      "|       0.314|\n",
      "|      0.0242|\n",
      "|     7.02E-4|\n",
      "+------------+\n",
      "only showing top 20 rows\n",
      "\n"
     ]
    }
   ],
   "source": [
    "spotify_df2.select(spotify_df2.qualities.getItem('acousticness').alias('acousticness')).show()"
   ]
  },
  {
   "cell_type": "code",
   "execution_count": 140,
   "metadata": {},
   "outputs": [
    {
     "name": "stdout",
     "output_type": "stream",
     "text": [
      "+---+---+\n",
      "|pos|col|\n",
      "+---+---+\n",
      "|  0|  2|\n",
      "|  1|  1|\n",
      "|  2|  1|\n",
      "|  0|  1|\n",
      "|  1|  1|\n",
      "|  2|  1|\n",
      "|  0|  2|\n",
      "|  1|  1|\n",
      "|  2|  1|\n",
      "|  0|  5|\n",
      "|  1|  1|\n",
      "|  2|  1|\n",
      "|  0|  5|\n",
      "|  1|  0|\n",
      "|  2|  1|\n",
      "|  0|  8|\n",
      "|  1|  1|\n",
      "|  2|  1|\n",
      "|  0|  1|\n",
      "|  1|  1|\n",
      "+---+---+\n",
      "only showing top 20 rows\n",
      "\n"
     ]
    }
   ],
   "source": [
    "spotify_df2.select(F.posexplode(spotify_df2.audience)).show()"
   ]
  },
  {
   "cell_type": "code",
   "execution_count": 141,
   "metadata": {},
   "outputs": [
    {
     "name": "stdout",
     "output_type": "stream",
     "text": [
      "+------------+-------+\n",
      "|   qualities|  value|\n",
      "+------------+-------+\n",
      "|acousticness| 0.0102|\n",
      "|acousticness|  0.199|\n",
      "|acousticness| 0.0344|\n",
      "|acousticness|  0.604|\n",
      "|acousticness|   0.18|\n",
      "|acousticness|0.00479|\n",
      "|acousticness| 0.0145|\n",
      "|acousticness| 0.0202|\n",
      "|acousticness| 0.0481|\n",
      "|acousticness|0.00208|\n",
      "|acousticness| 0.0572|\n",
      "|acousticness|  0.253|\n",
      "|acousticness|  0.366|\n",
      "|acousticness|   0.44|\n",
      "|acousticness|  0.019|\n",
      "|acousticness| 0.0239|\n",
      "|acousticness|  0.233|\n",
      "|acousticness|  0.314|\n",
      "|acousticness| 0.0242|\n",
      "|acousticness|7.02E-4|\n",
      "+------------+-------+\n",
      "only showing top 20 rows\n",
      "\n"
     ]
    }
   ],
   "source": [
    "spotify_df2.select(F.explode(spotify_df2.qualities).alias(\"qualities\", \"value\")).show()"
   ]
  },
  {
   "cell_type": "code",
   "execution_count": null,
   "metadata": {
    "collapsed": true
   },
   "outputs": [],
   "source": []
  },
  {
   "cell_type": "code",
   "execution_count": null,
   "metadata": {
    "collapsed": true
   },
   "outputs": [],
   "source": []
  },
  {
   "cell_type": "code",
   "execution_count": null,
   "metadata": {
    "collapsed": true
   },
   "outputs": [],
   "source": []
  },
  {
   "cell_type": "code",
   "execution_count": 142,
   "metadata": {
    "collapsed": true
   },
   "outputs": [],
   "source": [
    "spark.stop()"
   ]
  },
  {
   "cell_type": "code",
   "execution_count": null,
   "metadata": {
    "collapsed": true
   },
   "outputs": [],
   "source": []
  }
 ],
 "metadata": {
  "kernelspec": {
   "display_name": "Python 3",
   "language": "python",
   "name": "python3"
  },
  "language_info": {
   "codemirror_mode": {
    "name": "ipython",
    "version": 3
   },
   "file_extension": ".py",
   "mimetype": "text/x-python",
   "name": "python",
   "nbconvert_exporter": "python",
   "pygments_lexer": "ipython3",
   "version": "3.5.3"
  },
  "toc": {
   "colors": {
    "hover_highlight": "#DAA520",
    "navigate_num": "#000000",
    "navigate_text": "#333333",
    "running_highlight": "#FF0000",
    "selected_highlight": "#FFD700",
    "sidebar_border": "#EEEEEE",
    "wrapper_background": "#FFFFFF"
   },
   "moveMenuLeft": true,
   "nav_menu": {
    "height": "353px",
    "width": "252px"
   },
   "navigate_menu": true,
   "number_sections": true,
   "sideBar": true,
   "threshold": 4,
   "toc_cell": false,
   "toc_section_display": "block",
   "toc_window_display": false,
   "widenNotebook": false
  }
 },
 "nbformat": 4,
 "nbformat_minor": 2
}
